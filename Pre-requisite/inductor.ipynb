{
 "cells": [
  {
   "cell_type": "code",
   "execution_count": 1,
   "metadata": {},
   "outputs": [
    {
     "name": "stderr",
     "output_type": "stream",
     "text": [
      "/usr/local/lib/python3.10/dist-packages/tqdm/auto.py:21: TqdmWarning: IProgress not found. Please update jupyter and ipywidgets. See https://ipywidgets.readthedocs.io/en/stable/user_install.html\n",
      "  from .autonotebook import tqdm as notebook_tqdm\n"
     ]
    },
    {
     "name": "stdout",
     "output_type": "stream",
     "text": [
      ">>> my_compiler() invoked:\n",
      ">>> FX graph:\n",
      "opcode         name    target                   args          kwargs\n",
      "-------------  ------  -----------------------  ------------  --------\n",
      "placeholder    l_x_    L_x_                     ()            {}\n",
      "placeholder    l_y_    L_y_                     ()            {}\n",
      "call_function  add     <built-in function add>  (l_x_, l_y_)  {}\n",
      "call_function  mul     <built-in function mul>  (add, l_x_)   {}\n",
      "output         output  output                   ((mul,),)     {}\n",
      ">>> Code:\n",
      "\n",
      "\n",
      "\n",
      "def forward(self, L_x_ : torch.Tensor, L_y_ : torch.Tensor):\n",
      "    l_x_ = L_x_\n",
      "    l_y_ = L_y_\n",
      "    add = l_x_ + l_y_;  l_y_ = None\n",
      "    mul = add * l_x_;  add = l_x_ = None\n",
      "    return (mul,)\n",
      "    \n"
     ]
    }
   ],
   "source": [
    "from typing import List\n",
    "import torch\n",
    "\n",
    "def my_compiler(gm: torch.fx.GraphModule, example_inputs: List[torch.Tensor]):\n",
    "    print(\">>> my_compiler() invoked:\")\n",
    "    print(\">>> FX graph:\")\n",
    "    gm.graph.print_tabular()\n",
    "    print(f\">>> Code:\\n{gm.code}\")\n",
    "    return gm.forward  # return a python callable\n",
    "\n",
    "@torch.compile(backend=my_compiler)\n",
    "def foo(x, y):\n",
    "    return (x + y) * x\n",
    "\n",
    "if __name__ == \"__main__\":\n",
    "    a, b = torch.randn(10), torch.ones(10)\n",
    "    foo(a, b)"
   ]
  },
  {
   "cell_type": "code",
   "execution_count": 2,
   "metadata": {},
   "outputs": [
    {
     "name": "stdout",
     "output_type": "stream",
     "text": [
      "co_names ('print',)\n",
      "co_varnames ()\n",
      "co_consts (None, 'Hello, world!')\n",
      "  4           0 LOAD_GLOBAL              0 (print)\n",
      "              2 LOAD_CONST               1 ('Hello, world!')\n",
      "              4 CALL_FUNCTION            1\n",
      "              6 POP_TOP\n",
      "              8 LOAD_CONST               0 (None)\n",
      "             10 RETURN_VALUE\n",
      "None\n"
     ]
    }
   ],
   "source": [
    "import dis\n",
    "\n",
    "def hello():\n",
    "    print(\"Hello, world!\")\n",
    "\n",
    "for k in [\"co_names\", \"co_varnames\", \"co_consts\"]:\n",
    "    print(k, getattr(hello.__code__, k))\n",
    "print(dis.dis(hello))"
   ]
  },
  {
   "cell_type": "code",
   "execution_count": 3,
   "metadata": {},
   "outputs": [
    {
     "ename": "TypeError",
     "evalue": "fn() missing 2 required positional arguments: 'x' and 'y'",
     "output_type": "error",
     "traceback": [
      "\u001b[0;31m---------------------------------------------------------------------------\u001b[0m",
      "\u001b[0;31mTypeError\u001b[0m                                 Traceback (most recent call last)",
      "Cell \u001b[0;32mIn[3], line 8\u001b[0m\n\u001b[1;32m      6\u001b[0m new_fn \u001b[38;5;241m=\u001b[39m torch\u001b[38;5;241m.\u001b[39mcompile(fn, backend\u001b[38;5;241m=\u001b[39m\u001b[38;5;124m\"\u001b[39m\u001b[38;5;124minductor\u001b[39m\u001b[38;5;124m\"\u001b[39m)\n\u001b[1;32m      7\u001b[0m input_tensor \u001b[38;5;241m=\u001b[39m torch\u001b[38;5;241m.\u001b[39mrandn(\u001b[38;5;241m10000\u001b[39m)\u001b[38;5;241m.\u001b[39mto(device\u001b[38;5;241m=\u001b[39m\u001b[38;5;124m\"\u001b[39m\u001b[38;5;124mcuda:0\u001b[39m\u001b[38;5;124m\"\u001b[39m)\n\u001b[0;32m----> 8\u001b[0m a \u001b[38;5;241m=\u001b[39m \u001b[43mnew_fn\u001b[49m\u001b[43m(\u001b[49m\u001b[43m)\u001b[49m\n",
      "File \u001b[0;32m/usr/local/lib/python3.10/dist-packages/torch/_dynamo/eval_frame.py:451\u001b[0m, in \u001b[0;36m_TorchDynamoContext.__call__.<locals>._fn\u001b[0;34m(*args, **kwargs)\u001b[0m\n\u001b[1;32m    449\u001b[0m prior \u001b[38;5;241m=\u001b[39m set_eval_frame(callback)\n\u001b[1;32m    450\u001b[0m \u001b[38;5;28;01mtry\u001b[39;00m:\n\u001b[0;32m--> 451\u001b[0m     \u001b[38;5;28;01mreturn\u001b[39;00m \u001b[43mfn\u001b[49m\u001b[43m(\u001b[49m\u001b[38;5;241;43m*\u001b[39;49m\u001b[43margs\u001b[49m\u001b[43m,\u001b[49m\u001b[43m \u001b[49m\u001b[38;5;241;43m*\u001b[39;49m\u001b[38;5;241;43m*\u001b[39;49m\u001b[43mkwargs\u001b[49m\u001b[43m)\u001b[49m\n\u001b[1;32m    452\u001b[0m \u001b[38;5;28;01mfinally\u001b[39;00m:\n\u001b[1;32m    453\u001b[0m     set_eval_frame(prior)\n",
      "\u001b[0;31mTypeError\u001b[0m: fn() missing 2 required positional arguments: 'x' and 'y'"
     ]
    }
   ],
   "source": [
    "import torch\n",
    "def fn(x, y):\n",
    "    a = torch.sin(x).cuda()\n",
    "    b = torch.sin(y).cuda()\n",
    "    return a + b\n",
    "new_fn = torch.compile(fn, backend=\"inductor\")\n",
    "input_tensor = torch.randn(10000).to(device=\"cuda:0\")\n",
    "a = new_fn(input_tensor,input_tensor)"
   ]
  }
 ],
 "metadata": {
  "kernelspec": {
   "display_name": "Python 3",
   "language": "python",
   "name": "python3"
  },
  "language_info": {
   "codemirror_mode": {
    "name": "ipython",
    "version": 3
   },
   "file_extension": ".py",
   "mimetype": "text/x-python",
   "name": "python",
   "nbconvert_exporter": "python",
   "pygments_lexer": "ipython3",
   "version": "3.10.12"
  }
 },
 "nbformat": 4,
 "nbformat_minor": 2
}
