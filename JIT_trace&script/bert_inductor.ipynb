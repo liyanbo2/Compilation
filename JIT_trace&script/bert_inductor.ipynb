{
 "cells": [
  {
   "cell_type": "code",
   "execution_count": null,
   "metadata": {},
   "outputs": [],
   "source": [
    "from transformers import BertTokenizer, BertModel\n",
    "import numpy as np\n",
    "import torch\n",
    "from time import perf_counter\n",
    "import time"
   ]
  },
  {
   "cell_type": "code",
   "execution_count": 6,
   "metadata": {},
   "outputs": [],
   "source": [
    "def timer(f,*args):   \n",
    "    with torch.no_grad():\n",
    "        torch.cuda.synchronize() \n",
    "        start = perf_counter()\n",
    "        f(*args)\n",
    "        torch.cuda.synchronize() \n",
    "        return (1000 * (perf_counter() - start))\n",
    "device = torch.device(\"cuda:1\" if torch.cuda.is_available else \"cpu\")\n",
    "# 加载bert model\n",
    "tokenizer = BertTokenizer.from_pretrained('/dataset/crosspipe/bert-base-uncased')\n",
    "model = BertModel.from_pretrained(\"/dataset/crosspipe/bert-base-uncased\").to(device)\n",
    "model = torch.compile(model, backend=\"inductor\") # This is the only line of code that we changed\n",
    "text = \"Replace me by any text you'd like.\"\n",
    "encoded_input = tokenizer(text, return_tensors='pt').to(device=\"cuda:1\")\n"
   ]
  },
  {
   "cell_type": "code",
   "execution_count": 1,
   "metadata": {},
   "outputs": [
    {
     "ename": "NameError",
     "evalue": "name 'torch' is not defined",
     "output_type": "error",
     "traceback": [
      "\u001b[0;31m---------------------------------------------------------------------------\u001b[0m",
      "\u001b[0;31mNameError\u001b[0m                                 Traceback (most recent call last)",
      "Cell \u001b[0;32mIn[1], line 1\u001b[0m\n\u001b[0;32m----> 1\u001b[0m \u001b[38;5;28;01mwith\u001b[39;00m \u001b[43mtorch\u001b[49m\u001b[38;5;241m.\u001b[39mno_grad():\n\u001b[1;32m      2\u001b[0m     torch\u001b[38;5;241m.\u001b[39mcuda\u001b[38;5;241m.\u001b[39msynchronize()\n\u001b[1;32m      3\u001b[0m     start \u001b[38;5;241m=\u001b[39m time\u001b[38;5;241m.\u001b[39mtime()\n",
      "\u001b[0;31mNameError\u001b[0m: name 'torch' is not defined"
     ]
    }
   ],
   "source": [
    "with torch.no_grad():\n",
    "    torch.cuda.synchronize()\n",
    "    start = time.time()\n",
    "    output = model(**encoded_input)\n",
    "    end = time.time()\n",
    "    torch.cuda.synchronize()\n",
    "    print(end - start)"
   ]
  },
  {
   "cell_type": "code",
   "execution_count": 61,
   "metadata": {},
   "outputs": [
    {
     "name": "stdout",
     "output_type": "stream",
     "text": [
      "Average inference time over 10000 iterations: 0.003620 seconds\n"
     ]
    }
   ],
   "source": [
    "import time\n",
    "import torch\n",
    "\n",
    "# 假设 model 和 encoded_input 已经定义好了\n",
    "\n",
    "num_iterations = 10000\n",
    "total_time = 0.0\n",
    "\n",
    "with torch.no_grad():\n",
    "    for _ in range(num_iterations):\n",
    "        torch.cuda.synchronize()  # 确保所有 CUDA 操作完成\n",
    "        start = time.time()  # 记录开始时间\n",
    "        output = model(**encoded_input)  # 进行模型推理\n",
    "        torch.cuda.synchronize()  # 确保所有 CUDA 操作完成\n",
    "        end = time.time()  # 记录结束时间\n",
    "        total_time += (end - start)  # 累积时间\n",
    "\n",
    "average_time = total_time / num_iterations\n",
    "print(f'Average inference time over {num_iterations} iterations: {average_time:.6f} seconds')"
   ]
  }
 ],
 "metadata": {
  "kernelspec": {
   "display_name": "Python 3",
   "language": "python",
   "name": "python3"
  },
  "language_info": {
   "codemirror_mode": {
    "name": "ipython",
    "version": 3
   },
   "file_extension": ".py",
   "mimetype": "text/x-python",
   "name": "python",
   "nbconvert_exporter": "python",
   "pygments_lexer": "ipython3",
   "version": "3.10.12"
  }
 },
 "nbformat": 4,
 "nbformat_minor": 2
}
