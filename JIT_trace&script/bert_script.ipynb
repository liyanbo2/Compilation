{
 "cells": [
  {
   "cell_type": "code",
   "execution_count": null,
   "metadata": {},
   "outputs": [],
   "source": [
    "from transformers import BertTokenizer, BertModel\n",
    "import numpy as np\n",
    "import torch\n",
    "from time import perf_counter"
   ]
  },
  {
   "cell_type": "code",
   "execution_count": null,
   "metadata": {},
   "outputs": [],
   "source": [
    "def timer(f,*args):   \n",
    "    torch.cuda.synchronize() \n",
    "    start = perf_counter()\n",
    "\n",
    "    f(*args)\n",
    "    torch.cuda.synchronize() \n",
    "    return (1000 * (perf_counter() - start))"
   ]
  },
  {
   "cell_type": "code",
   "execution_count": null,
   "metadata": {},
   "outputs": [],
   "source": [
    "# 加载bert model\n",
    "native_model = BertModel.from_pretrained(\"/dataset/crosspipe/bert-base-uncased\")"
   ]
  },
  {
   "cell_type": "code",
   "execution_count": null,
   "metadata": {},
   "outputs": [],
   "source": [
    "script_model = BertModel.from_pretrained(\"/dataset/crosspipe/bert-base-uncased\", torchscript=True)"
   ]
  },
  {
   "cell_type": "code",
   "execution_count": null,
   "metadata": {},
   "outputs": [],
   "source": [
    "script_model"
   ]
  },
  {
   "cell_type": "code",
   "execution_count": null,
   "metadata": {},
   "outputs": [],
   "source": [
    "script_tokenizer = BertTokenizer.from_pretrained('/dataset/crosspipe/bert-base-uncased', torchscript=True)"
   ]
  },
  {
   "cell_type": "code",
   "execution_count": null,
   "metadata": {},
   "outputs": [],
   "source": [
    "text = \"[CLS] Who was Jim Henson ? [SEP] Jim Henson was a puppeteer [SEP]\"\n",
    "tokenized_text = script_tokenizer.tokenize(text)"
   ]
  },
  {
   "cell_type": "code",
   "execution_count": null,
   "metadata": {},
   "outputs": [],
   "source": [
    "# Masking one of the input tokens\n",
    "masked_index = 8\n",
    "tokenized_text[masked_index] = '[MASK]'\n",
    "indexed_tokens = script_tokenizer.convert_tokens_to_ids(tokenized_text)\n",
    "segments_ids = [0, 0, 0, 0, 0, 0, 0, 1, 1, 1, 1, 1, 1, 1]\n",
    "# Creating a dummy input\n",
    "tokens_tensor = torch.tensor([indexed_tokens])\n",
    "segments_tensors = torch.tensor([segments_ids])"
   ]
  },
  {
   "cell_type": "code",
   "execution_count": null,
   "metadata": {},
   "outputs": [],
   "source": [
    "native_model(tokens_tensor,segments_tensors)"
   ]
  },
  {
   "cell_type": "code",
   "execution_count": null,
   "metadata": {},
   "outputs": [],
   "source": [
    "native_model.eval()\n",
    "np.mean([timer(native_model,tokens_tensor,segments_tensors) for _ in range(100)])"
   ]
  },
  {
   "cell_type": "code",
   "execution_count": null,
   "metadata": {},
   "outputs": [],
   "source": [
    "native_model = native_model.cuda()\n",
    "native_model.eval()"
   ]
  },
  {
   "cell_type": "code",
   "execution_count": null,
   "metadata": {},
   "outputs": [],
   "source": [
    "tokens_tensor_gpu = tokens_tensor.cuda()\n",
    "segments_tensors_gpu = segments_tensors.cuda()\n",
    "np.mean([timer(native_model,tokens_tensor_gpu,segments_tensors_gpu) for _ in range(100)])"
   ]
  },
  {
   "cell_type": "code",
   "execution_count": null,
   "metadata": {},
   "outputs": [],
   "source": [
    "tokens_tensor.cpu()\n",
    "segments_tensors.cpu()"
   ]
  },
  {
   "cell_type": "code",
   "execution_count": null,
   "metadata": {},
   "outputs": [],
   "source": [
    "traced_model = torch.jit.trace(script_model, [tokens_tensor, segments_tensors])\n",
    "# 因模型的trace时，已经包含了.eval()的行为，因此不必再去显式调用model.eval()\n",
    "np.mean([timer(traced_model,tokens_tensor,segments_tensors) for _ in range(100)])"
   ]
  },
  {
   "cell_type": "code",
   "execution_count": null,
   "metadata": {},
   "outputs": [],
   "source": [
    "script_model.cuda()\n",
    "script_model.eval()\n",
    "tokens_tensor_gpu = tokens_tensor.cuda()\n",
    "segments_tensors_gpu = segments_tensors.cuda()\n",
    "traced_model = torch.jit.trace(script_model, [tokens_tensor_gpu, segments_tensors_gpu])"
   ]
  },
  {
   "cell_type": "code",
   "execution_count": null,
   "metadata": {},
   "outputs": [],
   "source": [
    "np.mean([timer(traced_model,tokens_tensor_gpu,segments_tensors_gpu) for _ in range(100)])"
   ]
  },
  {
   "cell_type": "code",
   "execution_count": null,
   "metadata": {},
   "outputs": [],
   "source": [
    "import torch\n",
    "import numpy as np\n",
    "from time import perf_counter\n",
    "\n",
    "# 定义计时函数\n",
    "def timer(f, *args):\n",
    "    torch.cuda.synchronize()  # 确保CUDA操作已完成\n",
    "    start = perf_counter()\n",
    "    f(*args)\n",
    "    torch.cuda.synchronize()  # 确保CUDA操作已完成\n",
    "    return (1000 * (perf_counter() - start))  # 返回毫秒单位的时间\n",
    "\n",
    "# 将模型移到GPU上\n",
    "script_model.cuda()\n",
    "\n",
    "# 将输入张量移到GPU上\n",
    "tokens_tensor_gpu = tokens_tensor.cuda()\n",
    "segments_tensors_gpu = segments_tensors.cuda()\n",
    "\n",
    "# 测试未优化模型的性能\n",
    "native_times = [timer(script_model, tokens_tensor_gpu, segments_tensors_gpu) for _ in range(100)]\n",
    "native_mean_time = np.mean(native_times)\n",
    "print(f\"Average execution time for native model on GPU: {native_mean_time:.2f} ms\")\n",
    "\n",
    "# 生成优化后的模型\n",
    "try:\n",
    "    traced_model = torch.jit.trace(script_model, [tokens_tensor_gpu, segments_tensors_gpu])\n",
    "    \n",
    "    # 测试优化模型的性能\n",
    "    traced_times = [timer(traced_model, tokens_tensor_gpu, segments_tensors_gpu) for _ in range(100)]\n",
    "    traced_mean_time = np.mean(traced_times)\n",
    "    print(f\"Average execution time for traced model on GPU: {traced_mean_time:.2f} ms\")\n",
    "except RuntimeError as e:\n",
    "    print(f\"Tracing failed with error: {e}\")\n"
   ]
  }
 ],
 "metadata": {
  "kernelspec": {
   "display_name": "Python 3",
   "language": "python",
   "name": "python3"
  },
  "language_info": {
   "codemirror_mode": {
    "name": "ipython",
    "version": 3
   },
   "file_extension": ".py",
   "mimetype": "text/x-python",
   "name": "python",
   "nbconvert_exporter": "python",
   "pygments_lexer": "ipython3",
   "version": "3.10.12"
  }
 },
 "nbformat": 4,
 "nbformat_minor": 2
}
