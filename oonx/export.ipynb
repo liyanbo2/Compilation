{
 "cells": [
  {
   "cell_type": "code",
   "execution_count": null,
   "metadata": {},
   "outputs": [],
   "source": [
    "import torch \n",
    " \n",
    "class Model(torch.nn.Module): \n",
    "    def __init__(self, n): \n",
    "        super().__init__() \n",
    "        self.n = n \n",
    "        self.conv = torch.nn.Conv2d(3, 3, 3) \n",
    " \n",
    "    def forward(self, x): \n",
    "        for i in range(self.n): \n",
    "            x = self.conv(x) \n",
    "        return x "
   ]
  },
  {
   "cell_type": "code",
   "execution_count": null,
   "metadata": {},
   "outputs": [],
   "source": [
    "models = [Model(2), Model(3)] \n",
    "model_names = ['model_2', 'model_3'] "
   ]
  },
  {
   "cell_type": "code",
   "execution_count": null,
   "metadata": {},
   "outputs": [],
   "source": [
    "for model, model_name in zip(models, model_names): \n",
    "    dummy_input = torch.rand(1, 3, 10, 10) \n",
    "    dummy_output = model(dummy_input) \n",
    "    model_trace = torch.jit.trace(model, dummy_input) \n",
    "    model_script = torch.jit.script(model) \n",
    "    # 跟踪法与直接 torch.onnx.export(model, ...)等价 \n",
    "    torch.onnx.export(model_trace, dummy_input, f'/home/Graph_module/oonx/{model_name}_trace.onnx') \n",
    "    # 记录法必须先调用 torch.jit.sciprt \n",
    "    torch.onnx.export(model_script, dummy_input, f'/home/Graph_module/oonx/{model_name}_script.onnx') "
   ]
  }
 ],
 "metadata": {
  "language_info": {
   "name": "python"
  }
 },
 "nbformat": 4,
 "nbformat_minor": 2
}
