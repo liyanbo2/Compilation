{
 "cells": [
  {
   "cell_type": "code",
   "execution_count": null,
   "metadata": {},
   "outputs": [],
   "source": [
    "import torch\n",
    "import torch.nn as nn\n",
    "import torch.nn.functional as F\n",
    "\n",
    "class SimpleModel(nn.Module):\n",
    "    def __init__(self):\n",
    "        super(SimpleModel, self).__init__()\n",
    "        self.fc1 = nn.Linear(10, 50)\n",
    "        self.fc2 = nn.Linear(50, 10)\n",
    "\n",
    "    def forward(self, x):\n",
    "        x = F.relu(self.fc1(x))\n",
    "        x = self.fc2(x)\n",
    "        return x\n"
   ]
  },
  {
   "cell_type": "code",
   "execution_count": null,
   "metadata": {},
   "outputs": [],
   "source": []
  },
  {
   "cell_type": "code",
   "execution_count": null,
   "metadata": {},
   "outputs": [],
   "source": [
    "from torch.fx import symbolic_trace\n",
    "\n",
    "# 创建模型实例\n",
    "model = SimpleModel()\n",
    "\n",
    "# 使用 PyTorch FX 追踪模型\n",
    "traced = symbolic_trace(model)\n",
    "\n",
    "# 打印计算图\n",
    "print(traced.graph)"
   ]
  },
  {
   "cell_type": "code",
   "execution_count": null,
   "metadata": {},
   "outputs": [],
   "source": [
    "print(traced.code)"
   ]
  },
  {
   "cell_type": "code",
   "execution_count": null,
   "metadata": {},
   "outputs": [],
   "source": [
    "for node in traced.graph.nodes:\n",
    "    if node.op == 'call_module' and node.target == 'fc1':\n",
    "        with traced.graph.inserting_after(node):\n",
    "            new_node = traced.graph.call_function(\n",
    "                torch.mul, args=(node, 2)\n",
    "            )\n",
    "            node.replace_all_uses_with(new_node)\n",
    "            new_node.replace_input_with(new_node, node)\n",
    "traced.recompile()\n",
    "print(traced.graph)"
   ]
  },
  {
   "cell_type": "code",
   "execution_count": null,
   "metadata": {},
   "outputs": [],
   "source": [
    "# 创建模型实例\n",
    "model = SimpleModel()\n",
    "\n",
    "# 使用 torch.jit.trace 将模型转换为 ScriptModule\n",
    "example_input = torch.randn(1, 10)\n",
    "traced_script_module = torch.jit.trace(model, example_input)\n",
    "\n"
   ]
  },
  {
   "cell_type": "code",
   "execution_count": null,
   "metadata": {},
   "outputs": [],
   "source": [
    "model"
   ]
  },
  {
   "cell_type": "code",
   "execution_count": null,
   "metadata": {},
   "outputs": [],
   "source": [
    "\n",
    "# 打印 ScriptModule\n",
    "print(traced_script_module)\n"
   ]
  },
  {
   "cell_type": "code",
   "execution_count": null,
   "metadata": {},
   "outputs": [],
   "source": [
    "\n",
    "# 导出为 TorchScript\n",
    "traced_script_module.save(\"simple_model_traced.pt\")\n"
   ]
  },
  {
   "cell_type": "code",
   "execution_count": null,
   "metadata": {},
   "outputs": [],
   "source": [
    "\n",
    "# 使用 torch.jit.script 将模型转换为 ScriptModule\n",
    "scripted_script_module = torch.jit.script(model)\n",
    "\n",
    "# 打印 ScriptModule\n",
    "print(scripted_script_module)\n",
    "\n"
   ]
  },
  {
   "cell_type": "code",
   "execution_count": null,
   "metadata": {},
   "outputs": [],
   "source": [
    "# 导出为 TorchScript\n",
    "scripted_script_module.save(\"simple_model_scripted.pt\")"
   ]
  },
  {
   "cell_type": "code",
   "execution_count": null,
   "metadata": {},
   "outputs": [],
   "source": [
    "import torch\n",
    "import torch.nn as nn\n",
    "import torch.nn.functional as F\n",
    "\n",
    "# 使用 nn.functional 实现的模型\n",
    "class FunctionalModel(nn.Module):\n",
    "    def __init__(self):\n",
    "        super(FunctionalModel, self).__init__()\n",
    "        self.fc1 = nn.Linear(10, 50)\n",
    "        self.fc2 = nn.Linear(50, 10)\n",
    "\n",
    "    def forward(self, x):\n",
    "        x = F.relu(self.fc1(x))\n",
    "        x = self.fc2(x)\n",
    "        return x\n",
    "\n",
    "# 使用 nn.Module 实现的模型\n",
    "class ModuleModel(nn.Module):\n",
    "    def __init__(self):\n",
    "        super(ModuleModel, self).__init__()\n",
    "        self.fc1 = nn.Linear(10, 50)\n",
    "        self.relu1 = nn.ReLU()\n",
    "        self.fc2 = nn.Linear(50, 10)\n",
    "\n",
    "    def forward(self, x):\n",
    "        x = self.relu1(self.fc1(x))\n",
    "        x = self.fc2(x)\n",
    "        return x\n",
    "\n",
    "# 实例化模型\n",
    "functional_model = FunctionalModel()\n",
    "module_model = ModuleModel()\n",
    "\n",
    "# 打印模型结构\n",
    "print(\"Functional Model:\")\n",
    "print(functional_model)\n",
    "print(\"\\nModule Model:\")\n",
    "print(module_model)\n"
   ]
  },
  {
   "cell_type": "code",
   "execution_count": null,
   "metadata": {},
   "outputs": [],
   "source": [
    "import transformers\n",
    "import torch\n",
    "\n",
    "model_path= \"/dataset/crosspipe/llama3-8b\""
   ]
  },
  {
   "cell_type": "code",
   "execution_count": null,
   "metadata": {},
   "outputs": [],
   "source": [
    "pipeline = transformers.pipeline(\n",
    "    \"text-generation\", model=model_path, model_kwargs={\"torch_dtype\": torch.bfloat16}, device_map=\"auto\"\n",
    ")"
   ]
  },
  {
   "cell_type": "code",
   "execution_count": null,
   "metadata": {},
   "outputs": [],
   "source": [
    "pipeline(\"Hey how are you doing today?\",max_length=50)"
   ]
  },
  {
   "cell_type": "code",
   "execution_count": null,
   "metadata": {},
   "outputs": [],
   "source": [
    "import torch\n",
    "from transformers import LlamaForCausalLM, LlamaTokenizer\n",
    "import torch.fx as fx\n",
    "import time\n",
    "\n",
    "# 加载LLaMA模型和分词器\n",
    "model_name = \"/dataset/crosspipe/llama-2-chat/Llama-2-7b-chat-hf\"\n",
    "model = LlamaForCausalLM.from_pretrained(model_name)\n",
    "tokenizer = LlamaTokenizer.from_pretrained(model_name)\n",
    "\n",
    "\n"
   ]
  },
  {
   "cell_type": "code",
   "execution_count": null,
   "metadata": {},
   "outputs": [],
   "source": [
    "# 定义输入数据\n",
    "input_text = \"Hello, how are you?\"\n",
    "inputs = tokenizer(input_text, return_tensors=\"pt\")\n",
    "\n"
   ]
  },
  {
   "cell_type": "code",
   "execution_count": null,
   "metadata": {},
   "outputs": [],
   "source": [
    "model"
   ]
  },
  {
   "cell_type": "code",
   "execution_count": null,
   "metadata": {},
   "outputs": [],
   "source": [
    "# 将模型转换为GraphModule\n",
    "from torch.fx import symbolic_trace\n",
    "traced_model = symbolic_trace(model)"
   ]
  },
  {
   "cell_type": "code",
   "execution_count": null,
   "metadata": {},
   "outputs": [],
   "source": [
    "traced_model"
   ]
  },
  {
   "cell_type": "code",
   "execution_count": 64,
   "metadata": {},
   "outputs": [],
   "source": [
    "import torch \n",
    "from torch import nn\n",
    "from torch import fx\n",
    "from torch.fx import symbolic_trace\n",
    "\n",
    "\n",
    "class MyModel(nn.Module):\n",
    "    def __init__(self):\n",
    "        super().__init__()\n",
    "        self.param=nn.Parameter(torch.Tensor([1,2,3,4]))\n",
    "        \n",
    "    def forward(self,x):\n",
    "        return (x+self.param).clamp(min=0.0,max=1.0)"
   ]
  },
  {
   "cell_type": "code",
   "execution_count": 65,
   "metadata": {},
   "outputs": [],
   "source": [
    "model=MyModel()"
   ]
  },
  {
   "cell_type": "code",
   "execution_count": 66,
   "metadata": {},
   "outputs": [
    {
     "name": "stdout",
     "output_type": "stream",
     "text": [
      "graph():\n",
      "    %x : [num_users=1] = placeholder[target=x]\n",
      "    %param : [num_users=1] = get_attr[target=param]\n",
      "    %add : [num_users=1] = call_function[target=operator.add](args = (%x, %param), kwargs = {})\n",
      "    %clamp : [num_users=1] = call_method[target=clamp](args = (%add,), kwargs = {min: 0.0, max: 1.0})\n",
      "    return clamp\n"
     ]
    }
   ],
   "source": [
    "symbolic_traced=symbolic_trace(model)\n",
    "print(symbolic_traced.graph)"
   ]
  },
  {
   "cell_type": "code",
   "execution_count": 51,
   "metadata": {},
   "outputs": [
    {
     "name": "stdout",
     "output_type": "stream",
     "text": [
      "\n",
      "\n",
      "\n",
      "def forward(self, x):\n",
      "    param = self.param\n",
      "    add = x + param;  x = param = None\n",
      "    clamp = add.clamp(min = 0.0, max = 1.0);  add = None\n",
      "    return clamp\n",
      "    \n",
      "opcode         name    target                   args        kwargs\n",
      "-------------  ------  -----------------------  ----------  ------------------------\n",
      "placeholder    x       x                        ()          {}\n",
      "get_attr       param   param                    ()          {}\n",
      "call_function  add     <built-in function add>  (x, param)  {}\n",
      "call_method    clamp   clamp                    (add,)      {'min': 0.0, 'max': 1.0}\n",
      "output         output  output                   (clamp,)    {}\n"
     ]
    }
   ],
   "source": [
    "print(symbolic_traced.code)\n",
    "symbolic_traced.graph.print_tabular()"
   ]
  },
  {
   "cell_type": "code",
   "execution_count": 58,
   "metadata": {},
   "outputs": [
    {
     "name": "stdout",
     "output_type": "stream",
     "text": [
      "clamp\n",
      "graph():\n",
      "    %x : [num_users=1] = placeholder[target=x]\n",
      "    %param : [num_users=1] = get_attr[target=param]\n",
      "    %add : [num_users=1] = call_function[target=operator.add](args = (%x, %param), kwargs = {})\n",
      "    %sigmoid : [num_users=1] = call_method[target=sigmoid](args = (%add,), kwargs = {})\n",
      "    return sigmoid\n",
      "\n",
      "\n",
      "\n",
      "def forward(self, x):\n",
      "    param = self.param\n",
      "    add = x + param;  x = param = None\n",
      "    sigmoid = add.sigmoid();  add = None\n",
      "    return sigmoid\n",
      "    \n",
      "opcode         name     target                   args        kwargs\n",
      "-------------  -------  -----------------------  ----------  --------\n",
      "placeholder    x        x                        ()          {}\n",
      "get_attr       param    param                    ()          {}\n",
      "call_function  add      <built-in function add>  (x, param)  {}\n",
      "call_method    sigmoid  sigmoid                  (add,)      {}\n",
      "output         output   output                   (sigmoid,)  {}\n"
     ]
    }
   ],
   "source": [
    "def transform(m):\n",
    "    gm=fx.Tracer().trace(m)\n",
    "    for node in gm.nodes:\n",
    "        if node.op == \"call_method\":\n",
    "            if node.target== \"clamp\":\n",
    "                print(node.target)\n",
    "                node.target = \"sigmoid\"\n",
    "                node.name =\"sigmoid\"\n",
    "                node.kwargs={} \n",
    "    gm.lint()\n",
    "    return fx.GraphModule(m,gm)\n",
    "\n",
    "trans_model=transform(model)\n",
    "print(trans_model.graph)\n",
    "print(trans_model.code)\n",
    "trans_model.graph.print_tabular()"
   ]
  },
  {
   "cell_type": "code",
   "execution_count": 59,
   "metadata": {},
   "outputs": [],
   "source": [
    "class MyModel1(nn.Module):\n",
    "    def __init__(self):\n",
    "        super().__init__()\n",
    "        self.param=nn.Parameter(torch.Tensor([1,2,3,4]))\n",
    "        #self.linear=torch.nn.Linear(4,5)\n",
    "        \n",
    "    def forward(self,x):\n",
    "        return (x+self.param).sigmoid()\n",
    "    \n",
    "test=MyModel1()\n",
    "\n",
    "\n",
    "inputs = torch.randn(1,4)\n",
    "torch.testing.assert_close(test(inputs),trans_model(inputs))\n"
   ]
  },
  {
   "cell_type": "code",
   "execution_count": 62,
   "metadata": {},
   "outputs": [
    {
     "name": "stdout",
     "output_type": "stream",
     "text": [
      "opcode         name     target                   args        kwargs\n",
      "-------------  -------  -----------------------  ----------  --------\n",
      "placeholder    x        x                        ()          {}\n",
      "get_attr       param    param                    ()          {}\n",
      "call_function  add      <built-in function add>  (x, param)  {}\n",
      "call_method    sigmoid  sigmoid                  (add,)      {}\n",
      "output         output   output                   (sigmoid,)  {}\n"
     ]
    }
   ],
   "source": [
    "symbolic_traced1=symbolic_trace(test)\n",
    "symbolic_traced1.graph.print_tabular()\n"
   ]
  },
  {
   "cell_type": "code",
   "execution_count": 72,
   "metadata": {},
   "outputs": [
    {
     "name": "stdout",
     "output_type": "stream",
     "text": [
      "opcode         name     target                   args        kwargs\n",
      "-------------  -------  -----------------------  ----------  --------\n",
      "placeholder    x        x                        ()          {}\n",
      "get_attr       param    param                    ()          {}\n",
      "call_function  add      <built-in function add>  (x, param)  {}\n",
      "call_method    sigmoid  sigmoid                  (add,)      {}\n",
      "output         output   output                   (sigmoid,)  {}\n",
      "None\n"
     ]
    }
   ],
   "source": [
    "from torch.fx import replace_pattern\n",
    "def pattern(x):\n",
    "    return x.clamp(min=0.0,max=1.0)\n",
    "\n",
    "def replacement(x):\n",
    "    return x.sigmoid()\n",
    "replace_pattern(symbolic_traced,pattern,replacement)\n",
    "print(symbolic_traced.graph.print_tabular())"
   ]
  },
  {
   "cell_type": "code",
   "execution_count": 73,
   "metadata": {},
   "outputs": [],
   "source": [
    "torch.testing.assert_close(test(inputs),symbolic_traced(inputs))"
   ]
  },
  {
   "cell_type": "code",
   "execution_count": null,
   "metadata": {},
   "outputs": [],
   "source": [
    "from torch.nn.utils.fusion import fuse_conv_bn_eval\n",
    "from torch.fx.node import Argument, Target\n",
    "from typing import Type, Dict, Any, Tuple, Iterable, Optional, List, cast\n",
    "import copy"
   ]
  },
  {
   "cell_type": "code",
   "execution_count": null,
   "metadata": {},
   "outputs": [],
   "source": [
    "def _parent_name(target : str) -> Tuple[str, str]:\n",
    "    \"\"\"\n",
    "    Splits a qualname into parent path and last atom.\n",
    "    For example, `foo.bar.baz` -> (`foo.bar`, `baz`)\n",
    "    \"\"\"\n",
    "    *parent, name = target.rsplit('.', 1)\n",
    "    return parent[0] if parent else '', name\n",
    "\n",
    "\n"
   ]
  }
 ],
 "metadata": {
  "kernelspec": {
   "display_name": "Python 3",
   "language": "python",
   "name": "python3"
  },
  "language_info": {
   "codemirror_mode": {
    "name": "ipython",
    "version": 3
   },
   "file_extension": ".py",
   "mimetype": "text/x-python",
   "name": "python",
   "nbconvert_exporter": "python",
   "pygments_lexer": "ipython3",
   "version": "3.10.12"
  }
 },
 "nbformat": 4,
 "nbformat_minor": 2
}
