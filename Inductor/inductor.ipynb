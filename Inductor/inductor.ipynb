{
 "cells": [
  {
   "cell_type": "code",
   "execution_count": 10,
   "metadata": {},
   "outputs": [
    {
     "name": "stdout",
     "output_type": "stream",
     "text": [
      ">>> my_compiler() invoked:\n",
      ">>> FX graph:\n",
      "opcode         name    target                   args          kwargs\n",
      "-------------  ------  -----------------------  ------------  --------\n",
      "placeholder    l_x_    L_x_                     ()            {}\n",
      "placeholder    l_y_    L_y_                     ()            {}\n",
      "call_function  add     <built-in function add>  (l_x_, l_y_)  {}\n",
      "call_function  mul     <built-in function mul>  (add, l_x_)   {}\n",
      "output         output  output                   ((mul,),)     {}\n",
      ">>> Code:\n",
      "\n",
      "\n",
      "\n",
      "def forward(self, L_x_ : torch.Tensor, L_y_ : torch.Tensor):\n",
      "    l_x_ = L_x_\n",
      "    l_y_ = L_y_\n",
      "    add = l_x_ + l_y_;  l_y_ = None\n",
      "    mul = add * l_x_;  add = l_x_ = None\n",
      "    return (mul,)\n",
      "    \n"
     ]
    }
   ],
   "source": [
    "from typing import List\n",
    "import torch\n",
    "\n",
    "def my_compiler(gm: torch.fx.GraphModule, example_inputs: List[torch.Tensor]):\n",
    "    print(\">>> my_compiler() invoked:\")\n",
    "    print(\">>> FX graph:\")\n",
    "    gm.graph.print_tabular()\n",
    "    print(f\">>> Code:\\n{gm.code}\")\n",
    "    return gm.forward  # return a python callable\n",
    "\n",
    "@torch.compile(backend=my_compiler)\n",
    "def foo(x, y):\n",
    "    return (x + y) * x\n",
    "\n",
    "if __name__ == \"__main__\":\n",
    "    a, b = torch.randn(10), torch.ones(10)\n",
    "    foo(a, b)"
   ]
  },
  {
   "cell_type": "code",
   "execution_count": 11,
   "metadata": {},
   "outputs": [
    {
     "name": "stdout",
     "output_type": "stream",
     "text": [
      "co_names ('print',)\n",
      "co_varnames ()\n",
      "co_consts (None, 'Hello, world!')\n",
      "  4           0 LOAD_GLOBAL              0 (print)\n",
      "              2 LOAD_CONST               1 ('Hello, world!')\n",
      "              4 CALL_FUNCTION            1\n",
      "              6 POP_TOP\n",
      "              8 LOAD_CONST               0 (None)\n",
      "             10 RETURN_VALUE\n",
      "None\n"
     ]
    }
   ],
   "source": [
    "import dis\n",
    "\n",
    "def hello():\n",
    "    print(\"Hello, world!\")\n",
    "\n",
    "for k in [\"co_names\", \"co_varnames\", \"co_consts\"]:\n",
    "    print(k, getattr(hello.__code__, k))\n",
    "print(dis.dis(hello))"
   ]
  },
  {
   "cell_type": "code",
   "execution_count": 12,
   "metadata": {},
   "outputs": [],
   "source": [
    "import torch\n",
    "def fn(x, y):\n",
    "    a = torch.sin(x).cuda()\n",
    "    b = torch.sin(y).cuda()\n",
    "    return a + b\n",
    "new_fn = torch.compile(fn, backend=\"inductor\")\n",
    "input_tensor = torch.randn(10000).to(device=\"cuda:0\")\n",
    "a = new_fn(input_tensor,input_tensor)"
   ]
  },
  {
   "cell_type": "code",
   "execution_count": 13,
   "metadata": {},
   "outputs": [],
   "source": [
    "import torch \n",
    "import time\n",
    "from transformers import BertTokenizer,BertModel\n",
    "import torch._dynamo as dynamo"
   ]
  },
  {
   "cell_type": "code",
   "execution_count": 22,
   "metadata": {},
   "outputs": [],
   "source": [
    "device = torch.device(\"cuda:0\" if torch.cuda.is_available else \"cpu\")\n",
    "tokenizer = BertTokenizer.from_pretrained('/dataset/crosspipe/bert-base-uncased')\n",
    "model = BertModel.from_pretrained(\"/dataset/crosspipe/bert-base-uncased\").to(device)\n",
    "model = dynamo.optimize(\"inductor\")(model)\n",
    "text = \"Replace me by any text you'd like.\"\n",
    "encoded_input = tokenizer(text, return_tensors='pt').to(device=\"cuda:0\")"
   ]
  },
  {
   "cell_type": "code",
   "execution_count": 86,
   "metadata": {},
   "outputs": [
    {
     "name": "stdout",
     "output_type": "stream",
     "text": [
      "0.009456157684326172\n"
     ]
    }
   ],
   "source": [
    "with torch.no_grad():\n",
    "    torch.cuda.synchronize()\n",
    "    start = time.time()\n",
    "    output = model(**encoded_input)\n",
    "    end = time.time()\n",
    "    torch.cuda.synchronize()\n",
    "    print(end -start)    "
   ]
  },
  {
   "cell_type": "code",
   "execution_count": 81,
   "metadata": {},
   "outputs": [
    {
     "name": "stdout",
     "output_type": "stream",
     "text": [
      "averge time over 10 iterations is 0.004197549819946289\n"
     ]
    }
   ],
   "source": [
    "num_iteration = 10\n",
    "total_time = 0\n",
    "for _ in range(num_iteration):\n",
    "    with torch.no_grad():\n",
    "        torch.cuda.synchronize()\n",
    "        start = time.time()\n",
    "        output = model(**encoded_input)\n",
    "        end = time.time()\n",
    "        torch.cuda.synchronize()\n",
    "        print(end-start)\n",
    "        total_time += (end -start)\n",
    "        \n",
    "average_time = total_time / num_iteration\n",
    "print(f\"averge time over {num_iteration} iterations is {average_time}\")"
   ]
  }
 ],
 "metadata": {
  "kernelspec": {
   "display_name": "Python 3",
   "language": "python",
   "name": "python3"
  },
  "language_info": {
   "codemirror_mode": {
    "name": "ipython",
    "version": 3
   },
   "file_extension": ".py",
   "mimetype": "text/x-python",
   "name": "python",
   "nbconvert_exporter": "python",
   "pygments_lexer": "ipython3",
   "version": "3.10.12"
  }
 },
 "nbformat": 4,
 "nbformat_minor": 2
}
